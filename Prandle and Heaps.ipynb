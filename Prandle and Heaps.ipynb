{
 "cells": [
  {
   "cell_type": "markdown",
   "id": "36a40d34",
   "metadata": {},
   "source": [
    "# Analytical solution Prandle and Heaps: Vertical velocity structure "
   ]
  },
  {
   "cell_type": "code",
   "execution_count": 1,
   "id": "05ac889a",
   "metadata": {},
   "outputs": [],
   "source": [
    "import numpy as np\n",
    "import matplotlib.pyplot as plt\n",
    "import cmath\n",
    "from mpl_toolkits.mplot3d import Axes3D\n",
    "from ipywidgets import interact, fixed"
   ]
  },
  {
   "cell_type": "markdown",
   "id": "16262a37",
   "metadata": {},
   "source": [
    "### Prandle: time-dependent analytical solution for tidal-induced currents"
   ]
  },
  {
   "cell_type": "code",
   "execution_count": 2,
   "id": "525a9bfd",
   "metadata": {},
   "outputs": [],
   "source": [
    "def Prandle(t, z, N):\n",
    "    \n",
    "        #Coast Characteristics\n",
    "      \n",
    "    zeta = 0.2    \n",
    "    h = 25\n",
    "    k = 0.0025\n",
    "    f = 1.09083078 * 10**-4\n",
    "    w = 1.4 * 10**-4\n",
    "    g = 9.81\n",
    "    drho_dx = - 2 * 10**-4\n",
    "    rho = 1000\n",
    "    w = 1.4 * 10**-4\n",
    "    U = 0.43\n",
    "    s = (8 * k * U) / (3 * np.pi * N)\n",
    "    \n",
    "        #Prandle\n",
    "    \n",
    "    a_plus = (1 + complex(0, 1)) * cmath.sqrt((f + w) / (2 * N))\n",
    "    R_plus = np.cosh(a_plus * (z - h)) - np.cosh(a_plus * h) - (a_plus / s) * np.sinh(a_plus * h) \n",
    "    R_plus_avg =  - np.cosh(a_plus * h) + (1 / (a_plus * h) - (a_plus / s)) * np.sinh(a_plus * h)\n",
    "\n",
    "    a_min = (1 + complex(0, 1)) * cmath.sqrt((f - w) / (2 * N))\n",
    "    R_min = np.cosh(a_min * (z - h)) - np.cosh(a_min * h) - (a_min / s) * np.sinh(a_min * h) \n",
    "    R_min_avg =  - np.cosh(a_min * h) + (1 / (a_min * h) - (a_min / s)) * np.sinh(a_min * h)\n",
    "\n",
    "    R_plus_plot = R_plus / R_plus_avg\n",
    "    R_min_plot = R_min / R_min_avg \n",
    "    \n",
    "    R_plus_amp = np.sqrt(R_plus_plot.real**2 + R_plus_plot.imag**2) * U\n",
    "    R_min_amp = np.sqrt(R_min_plot.real**2 + R_min_plot.imag**2) * U\n",
    "\n",
    "    R_plus_time = R_plus_amp * np.exp(-complex(0, 1) * w * t) \n",
    "    R_min_time = R_min_amp * np.exp(complex(0, 1) * w * t)\n",
    "    R = R_plus_time + R_min_time\n",
    "    \n",
    "    u_p = R.imag\n",
    "    v_p = R.real\n",
    "    \n",
    "        #Plot\n",
    "    \n",
    "    x = np.zeros(len(z))\n",
    "    y = np.zeros(len(z))\n",
    "    \n",
    "    fig = plt.figure(figsize=(16,10))\n",
    "    ax = fig.add_subplot(projection='3d')\n",
    "    \n",
    "    ax.quiver(x, y, z, u_p, v_p, 0, label='Prandle')\n",
    "    ax.axis(xmin=-.3, xmax=.3)\n",
    "    ax.axis(ymin=-1, ymax=1)\n",
    "    ax.title(f'Vertical eddy viscosity = {N} [m/, total depth = {h})\n",
    "    ax.set_xlabel('Cross-shore velocity [m/s]')\n",
    "    ax.set_ylabel('Alongshore velocity [m/s]')\n",
    "    ax.legend(loc='upper left')"
   ]
  },
  {
   "cell_type": "code",
   "execution_count": 3,
   "id": "e06a2bc0",
   "metadata": {},
   "outputs": [
    {
     "data": {
      "application/vnd.jupyter.widget-view+json": {
       "model_id": "7cd908b341bf43c3b4ac638079d37236",
       "version_major": 2,
       "version_minor": 0
      },
      "text/plain": [
       "interactive(children=(FloatSlider(value=44700.0, description='t', max=89400.0, step=894.0), Output()), _dom_cl…"
      ]
     },
     "metadata": {},
     "output_type": "display_data"
    },
    {
     "data": {
      "text/plain": [
       "<function __main__.Prandle(t, z, N)>"
      ]
     },
     "execution_count": 3,
     "metadata": {},
     "output_type": "execute_result"
    }
   ],
   "source": [
    "z = np.linspace(0, 25, 100)\n",
    "N = 0.0028\n",
    "t = np.linspace(0, 89400, 100)\n",
    "interact(Prandle, t=(0, 89400, 89400/100), z=fixed(z), N=fixed(N))"
   ]
  },
  {
   "cell_type": "markdown",
   "id": "bd312101",
   "metadata": {},
   "source": [
    "### Heaps: time-independent analytical solution for residual density-driven currents"
   ]
  },
  {
   "cell_type": "code",
   "execution_count": 4,
   "id": "b8c085e5",
   "metadata": {},
   "outputs": [],
   "source": [
    "def Heaps(z, N):\n",
    "    \n",
    "        #Coast Characteristics\n",
    "      \n",
    "    zeta = 0.2    \n",
    "    h = 25\n",
    "    k = 0.0025\n",
    "    f = 1.09083078 * 10**-4\n",
    "    w = 1.4 * 10**-4\n",
    "    g = 9.81\n",
    "    drho_dx = - 2 * 10**-4\n",
    "    rho = 1000\n",
    "    w = 1.4 * 10**-4\n",
    "    U = 0.43\n",
    "    s = (8 * k * U) / (3 * np.pi * N)\n",
    "    \n",
    "        #Heaps\n",
    "        \n",
    "    D = np.pi * ((2 * N)/ f)**0.5\n",
    "    Z = z + zeta\n",
    "    H = h + zeta\n",
    "    eta = Z / H\n",
    "    a = np.pi * H / D\n",
    "    a1 = a * (1 - eta)\n",
    "    a2 = a * eta\n",
    "    b = k * (H / N)\n",
    "    C = a * (np.sinh(a) * np.cos(a) - np.cosh(a) * np.sin(a)) + b * np.cosh(a) * np.cos(a)\n",
    "    E = a * (np.sinh(a) * np.cos(a) + np.cosh(a) * np.sin(a)) + b * np.sinh(a) * np.sin(a)\n",
    "    L = b * np.cosh(a2) * np.cos(a2)\n",
    "    M = b * np.sinh(a2) * np.sin(a2)\n",
    "    P = C / (C**2 + E**2)\n",
    "    Q = E / (C**2 + E**2)\n",
    "    R = P * np.cosh(a) * np.cos(a) + Q * np.sinh(a) * np.sin(a)\n",
    "    S = 1 - (R * b)\n",
    "    Delta = (R - P - S) / S\n",
    "    Lambda = 1 + b + b * Delta\n",
    "    X = np.cosh(a1) * np.cos(a1) + (b / (2 * a)) * (np.sinh(a1) * np.cos(a1) + np.cosh(a1) * np.sin(a1)) - Lambda * np.cosh(a2) * np.cos(a2)\n",
    "    Y = np.sinh(a1) * np.sin(a1) + (b / (2 * a)) * (np.cosh(a1) * np.sin(a1) - np.sinh(a1) * np.cos(a1)) - Lambda * np.sinh(a2) * np.sin(a2)\n",
    "    \n",
    "    u_h = ((g * H) / f) * (X * Q - Y * P) * (drho_dx) / rho\n",
    "    v_h = ((g * H) / f) * (X * P + Y * Q + Delta + eta) * (drho_dx) / rho  \n",
    "    \n",
    "    u_h = np.flip(u_h)\n",
    "    v_h = np.flip(v_h)\n",
    "    \n",
    "        #Plot\n",
    "    \n",
    "    x = np.zeros(len(z))\n",
    "    y = np.zeros(len(z))\n",
    "    \n",
    "    fig = plt.figure(figsize=(16, 10))  \n",
    "    ax = fig.add_subplot(projection='3d')\n",
    "\n",
    "    ax.quiver(x, y, z, u_h, v_h, 0, label='Heaps')    \n",
    "    ax.axis(xmin=-.3, xmax=.3)\n",
    "    ax.axis(ymin=-1, ymax=1)\n",
    "    ax.set_xlabel('Cross-shore velocity [m/s]')\n",
    "    ax.set_ylabel('Alongshore velocity [m/s]')\n",
    "    ax.legend(loc='upper left')"
   ]
  },
  {
   "cell_type": "code",
   "execution_count": 5,
   "id": "03a52484",
   "metadata": {},
   "outputs": [
    {
     "data": {
      "application/vnd.jupyter.widget-view+json": {
       "model_id": "0789648d5a9041be8349e2b96f0863a8",
       "version_major": 2,
       "version_minor": 0
      },
      "text/plain": [
       "interactive(children=(FloatSlider(value=0.049010000000000005, description='N', max=0.1, min=1e-05, step=0.001)…"
      ]
     },
     "metadata": {},
     "output_type": "display_data"
    },
    {
     "data": {
      "text/plain": [
       "<function __main__.Heaps(z, N)>"
      ]
     },
     "execution_count": 5,
     "metadata": {},
     "output_type": "execute_result"
    }
   ],
   "source": [
    "z = np.linspace(0, 25, 100)\n",
    "N = 0.0028\n",
    "interact(Heaps, N=(0.00001, 0.1, 0.001), z=fixed(z))"
   ]
  },
  {
   "cell_type": "markdown",
   "id": "0a7a2426",
   "metadata": {},
   "source": [
    "### Prandle and Heaps combined"
   ]
  },
  {
   "cell_type": "code",
   "execution_count": 6,
   "id": "55980d14",
   "metadata": {},
   "outputs": [],
   "source": [
    "def Prandle_Heaps(t, z, N):\n",
    "    \n",
    "        #Coast Characteristics\n",
    "      \n",
    "    zeta = 0.2    \n",
    "    h = 25\n",
    "    k = 0.0025\n",
    "    f = 1.09083078 * 10**-4\n",
    "    w = 1.4 * 10**-4\n",
    "    g = 9.81\n",
    "    drho_dx = - 2 * 10**-4\n",
    "    rho = 1000\n",
    "    w = 1.4 * 10**-4\n",
    "    U = 0.43\n",
    "    s = (8 * k * U) / (3 * np.pi * N)\n",
    "    \n",
    "        #Heaps\n",
    "        \n",
    "    D = np.pi * ((2 * N)/ f)**0.5\n",
    "    Z = z + zeta\n",
    "    H = h + zeta\n",
    "    eta = Z / H\n",
    "    a = np.pi * H / D\n",
    "    a1 = a * (1 - eta)\n",
    "    a2 = a * eta\n",
    "    b = k * (H / N)\n",
    "    C = a * (np.sinh(a) * np.cos(a) - np.cosh(a) * np.sin(a)) + b * np.cosh(a) * np.cos(a)\n",
    "    E = a * (np.sinh(a) * np.cos(a) + np.cosh(a) * np.sin(a)) + b * np.sinh(a) * np.sin(a)\n",
    "    L = b * np.cosh(a2) * np.cos(a2)\n",
    "    M = b * np.sinh(a2) * np.sin(a2)\n",
    "    P = C / (C**2 + E**2)\n",
    "    Q = E / (C**2 + E**2)\n",
    "    R = P * np.cosh(a) * np.cos(a) + Q * np.sinh(a) * np.sin(a)\n",
    "    S = 1 - (R * b)\n",
    "    Delta = (R - P - S) / S\n",
    "    Lambda = 1 + b + b * Delta\n",
    "    X = np.cosh(a1) * np.cos(a1) + (b / (2 * a)) * (np.sinh(a1) * np.cos(a1) + np.cosh(a1) * np.sin(a1)) - Lambda * np.cosh(a2) * np.cos(a2)\n",
    "    Y = np.sinh(a1) * np.sin(a1) + (b / (2 * a)) * (np.cosh(a1) * np.sin(a1) - np.sinh(a1) * np.cos(a1)) - Lambda * np.sinh(a2) * np.sin(a2)\n",
    "    \n",
    "    u_h = ((g * H) / f) * (X * Q - Y * P) * (drho_dx) / rho\n",
    "    v_h = ((g * H) / f) * (X * P + Y * Q + Delta + eta) * (drho_dx) / rho  \n",
    "    \n",
    "    u_h = np.flip(u_h)\n",
    "    v_h = np.flip(v_h)\n",
    "    \n",
    "        #Prandle\n",
    "    \n",
    "    a_plus = (1 + complex(0, 1)) * cmath.sqrt((f + w) / (2 * N))\n",
    "    R_plus = np.cosh(a_plus * (z - h)) - np.cosh(a_plus * h) - (a_plus / s) * np.sinh(a_plus * h) \n",
    "    R_plus_avg =  - np.cosh(a_plus * h) + (1 / (a_plus * h) - (a_plus / s)) * np.sinh(a_plus * h)\n",
    "\n",
    "    a_min = (1 + complex(0, 1)) * cmath.sqrt((f - w) / (2 * N))\n",
    "    R_min = np.cosh(a_min * (z - h)) - np.cosh(a_min * h) - (a_min / s) * np.sinh(a_min * h) \n",
    "    R_min_avg =  - np.cosh(a_min * h) + (1 / (a_min * h) - (a_min / s)) * np.sinh(a_min * h)\n",
    "\n",
    "    R_plus_plot = R_plus / R_plus_avg\n",
    "    R_min_plot = R_min / R_min_avg \n",
    "    \n",
    "    R_plus_amp = np.sqrt(R_plus_plot.real**2 + R_plus_plot.imag**2) * U\n",
    "    R_min_amp = np.sqrt(R_min_plot.real**2 + R_min_plot.imag**2) * U\n",
    "\n",
    "    R_plus_time = R_plus_amp * np.exp(-complex(0, 1) * w * t) \n",
    "    R_min_time = R_min_amp * np.exp(complex(0, 1) * w * t)\n",
    "    R = R_plus_time + R_min_time\n",
    "    \n",
    "    u_p = R.imag\n",
    "    v_p = R.real\n",
    "    \n",
    "        #Prandle + Heaps\n",
    "    \n",
    "    u = u_h + u_p\n",
    "    v = v_h + v_p\n",
    "    \n",
    "        #Plot\n",
    "    \n",
    "    x = np.zeros(len(z))\n",
    "    y = np.zeros(len(z))\n",
    "    \n",
    "    fig = plt.figure(figsize=(16, 10))  \n",
    "    ax = fig.add_subplot(projection='3d')\n",
    "    \n",
    "    ax.quiver(x, y, z, u, v, 0, label='Prandle + Heaps') \n",
    "    ax.axis(xmin=-.3, xmax=.3)\n",
    "    ax.axis(ymin=-1, ymax=1)\n",
    "    ax.set_xlabel('Cross-shore velocity [m/s]')\n",
    "    ax.set_ylabel('Alongshore velocity [m/s]')\n",
    "    ax.legend(loc='upper left')"
   ]
  },
  {
   "cell_type": "code",
   "execution_count": 7,
   "id": "d90e09a5",
   "metadata": {},
   "outputs": [
    {
     "data": {
      "application/vnd.jupyter.widget-view+json": {
       "model_id": "421ba5001fa847b6af0bd5f5e89b1808",
       "version_major": 2,
       "version_minor": 0
      },
      "text/plain": [
       "interactive(children=(FloatSlider(value=44700.0, description='t', max=89400.0, step=894.0), Output()), _dom_cl…"
      ]
     },
     "metadata": {},
     "output_type": "display_data"
    },
    {
     "data": {
      "text/plain": [
       "<function __main__.Prandle_Heaps(t, z, N)>"
      ]
     },
     "execution_count": 7,
     "metadata": {},
     "output_type": "execute_result"
    }
   ],
   "source": [
    "z = np.linspace(0, 25, 100)\n",
    "N = 0.0028\n",
    "t = np.linspace(0, 89400, 100)\n",
    "interact(Prandle_Heaps, t=(0, 89400, 89400/100), z=fixed(z), N=fixed(N))"
   ]
  }
 ],
 "metadata": {
  "kernelspec": {
   "display_name": "Python 3.10.6 ('testgdal')",
   "language": "python",
   "name": "python3"
  },
  "language_info": {
   "codemirror_mode": {
    "name": "ipython",
    "version": 3
   },
   "file_extension": ".py",
   "mimetype": "text/x-python",
   "name": "python",
   "nbconvert_exporter": "python",
   "pygments_lexer": "ipython3",
   "version": "3.10.6"
  },
  "vscode": {
   "interpreter": {
    "hash": "8f8b45418f7617de2f0a3bdadc56321bd07a436746800ea4a8a4324af45bf686"
   }
  }
 },
 "nbformat": 4,
 "nbformat_minor": 5
}
